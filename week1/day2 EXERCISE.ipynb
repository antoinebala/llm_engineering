{
 "cells": [
  {
   "cell_type": "markdown",
   "id": "d15d8294-3328-4e07-ad16-8a03e9bbfdb9",
   "metadata": {},
   "source": [
    "# HOMEWORK EXERCISE ASSIGNMENT\n",
    "\n",
    "Upgrade the day 1 project to summarize a webpage to use an Open Source model running locally via Ollama rather than OpenAI\n",
    "\n",
    "You'll be able to use this technique for all subsequent projects if you'd prefer not to use paid APIs.\n",
    "\n",
    "**Benefits:**\n",
    "1. No API charges - open-source\n",
    "2. Data doesn't leave your box\n",
    "\n",
    "**Disadvantages:**\n",
    "1. Significantly less power than Frontier Model\n",
    "\n",
    "## Recap on installation of Ollama\n",
    "\n",
    "Simply visit [ollama.com](https://ollama.com) and install!\n",
    "\n",
    "Once complete, the ollama server should already be running locally.  \n",
    "If you visit:  \n",
    "[http://localhost:11434/](http://localhost:11434/)\n",
    "\n",
    "You should see the message `Ollama is running`.  \n",
    "\n",
    "If not, bring up a new Terminal (Mac) or Powershell (Windows) and enter `ollama serve`  \n",
    "Then try [http://localhost:11434/](http://localhost:11434/) again."
   ]
  },
  {
   "cell_type": "code",
   "execution_count": 2,
   "id": "4e2a9393-7767-488e-a8bf-27c12dca35bd",
   "metadata": {},
   "outputs": [],
   "source": [
    "# imports\n",
    "\n",
    "import requests\n",
    "from bs4 import BeautifulSoup\n",
    "from IPython.display import Markdown, display"
   ]
  },
  {
   "cell_type": "code",
   "execution_count": 3,
   "id": "29ddd15d-a3c5-4f4e-a678-873f56162724",
   "metadata": {},
   "outputs": [],
   "source": [
    "# Constants\n",
    "\n",
    "OLLAMA_API = \"http://localhost:11434/api/chat\"\n",
    "HEADERS = {\"Content-Type\": \"application/json\"}\n",
    "MODEL = \"llama3.2\""
   ]
  },
  {
   "cell_type": "code",
   "execution_count": 4,
   "id": "dac0a679-599c-441f-9bf2-ddc73d35b940",
   "metadata": {},
   "outputs": [],
   "source": [
    "# Create a messages list using the same format that we used for OpenAI\n",
    "\n",
    "messages = [\n",
    "    {\"role\": \"user\", \"content\": \"Describe some of the business applications of Generative AI\"}\n",
    "]"
   ]
  },
  {
   "cell_type": "code",
   "execution_count": 5,
   "id": "7bb9c624-14f0-4945-a719-8ddb64f66f47",
   "metadata": {},
   "outputs": [],
   "source": [
    "payload = {\n",
    "        \"model\": MODEL,\n",
    "        \"messages\": messages,\n",
    "        \"stream\": False\n",
    "    }"
   ]
  },
  {
   "cell_type": "code",
   "execution_count": 6,
   "id": "42b9f644-522d-4e05-a691-56e7658c0ea9",
   "metadata": {},
   "outputs": [
    {
     "name": "stdout",
     "output_type": "stream",
     "text": [
      "Generative AI has numerous business applications across various industries, including:\n",
      "\n",
      "1. **Content Creation**: Generative AI can be used to create personalized content such as blog posts, social media posts, product descriptions, and even entire articles.\n",
      "2. **Marketing Automation**: Generative AI can help automate marketing tasks, such as generating email subject lines, social media captions, and ad copy that resonate with specific audiences.\n",
      "3. **Product Design**: Generative AI can aid in designing new products, packaging, and branding by generating multiple design options quickly and efficiently.\n",
      "4. **Customer Service**: Generative AI-powered chatbots can provide 24/7 customer support, helping customers with simple queries and freeing human representatives for more complex issues.\n",
      "5. **Data Analysis**: Generative AI can be used to analyze large datasets, identify patterns, and make predictions, enabling businesses to make data-driven decisions.\n",
      "6. **Predictive Maintenance**: Generative AI can help predict equipment failures by analyzing sensor data, allowing businesses to schedule maintenance and reduce downtime.\n",
      "7. **Financial Modeling**: Generative AI can aid in financial modeling by generating scenarios for different market conditions, helping businesses anticipate potential outcomes.\n",
      "8. **Supply Chain Optimization**: Generative AI can be used to optimize supply chain operations by predicting demand, identifying bottlenecks, and suggesting alternative routes.\n",
      "9. **Personalized Recommendations**: Generative AI can generate personalized product recommendations based on customer behavior and preferences.\n",
      "10. **Training and Education**: Generative AI can create customized learning materials, such as interactive simulations, videos, and tutorials, to enhance educational experiences.\n",
      "\n",
      "Some specific business use cases for Generative AI include:\n",
      "\n",
      "* **Amazon's Chatbots**: Amazon uses Generative AI-powered chatbots to provide 24/7 customer support and help customers with simple queries.\n",
      "* **H&M's Virtual Try-On**: H&M uses Generative AI to create a virtual try-on feature that allows customers to see how clothing items would look on them without actually trying them on.\n",
      "* **Duolingo's Language Learning Platform**: Duolingo uses Generative AI to generate personalized language learning content, such as interactive lessons and games.\n",
      "* **KFC's Personalized Menu Recommendations**: KFC uses Generative AI to provide customers with personalized menu recommendations based on their preferences and dietary needs.\n",
      "\n",
      "These are just a few examples of the many business applications of Generative AI. As the technology continues to evolve, we can expect to see even more innovative use cases emerge across various industries.\n"
     ]
    }
   ],
   "source": [
    "response = requests.post(OLLAMA_API, json=payload, headers=HEADERS)\n",
    "print(response.json()['message']['content'])"
   ]
  },
  {
   "cell_type": "markdown",
   "id": "6a021f13-d6a1-4b96-8e18-4eae49d876fe",
   "metadata": {},
   "source": [
    "# Introducing the ollama package\n",
    "\n",
    "And now we'll do the same thing, but using the elegant ollama python package instead of a direct HTTP call.\n",
    "\n",
    "Under the hood, it's making the same call as above to the ollama server running at localhost:11434"
   ]
  },
  {
   "cell_type": "code",
   "execution_count": 7,
   "id": "7745b9c4-57dc-4867-9180-61fa5db55eb8",
   "metadata": {},
   "outputs": [
    {
     "name": "stdout",
     "output_type": "stream",
     "text": [
      "Generative AI has numerous business applications across various industries, including:\n",
      "\n",
      "1. **Content Creation**: Generative AI can be used to generate high-quality content such as articles, social media posts, product descriptions, and even entire books. This can help businesses streamline their content creation process, reduce costs, and improve consistency.\n",
      "2. **Marketing Automation**: Generative AI can be used to personalize marketing messages, create targeted ads, and even generate lead magnets. By analyzing customer data and behavior, generative AI can help businesses create highly effective marketing campaigns that resonate with their target audience.\n",
      "3. **Product Design and Development**: Generative AI can be used to design new products, such as furniture, cars, or electronics. It can also be used to optimize product designs for performance, cost, and sustainability.\n",
      "4. **Predictive Analytics**: Generative AI can be used to analyze large datasets and predict customer behavior, sales trends, and market fluctuations. This can help businesses make data-driven decisions and stay ahead of the competition.\n",
      "5. **Chatbots and Virtual Assistants**: Generative AI can be used to create highly effective chatbots that provide excellent customer service, answer common questions, and even handle complex conversations.\n",
      "6. **Image and Video Generation**: Generative AI can be used to generate high-quality images and videos for marketing campaigns, product showcases, or social media content.\n",
      "7. **Supply Chain Optimization**: Generative AI can be used to optimize supply chain operations, predict demand, and improve inventory management.\n",
      "8. **Customer Service**: Generative AI can be used to create personalized customer service experiences, respond to customer inquiries, and even provide emotional support.\n",
      "9. **Financial Analysis**: Generative AI can be used to analyze financial data, identify trends, and make predictions about future market performance.\n",
      "10. **Scientific Research**: Generative AI can be used to simulate complex systems, model real-world phenomena, and generate new scientific discoveries.\n",
      "\n",
      "Some specific examples of businesses that are already using generative AI include:\n",
      "\n",
      "* **IBM**: Using generative AI to create personalized customer experiences and optimize supply chain operations.\n",
      "* **Daimler AG**: Using generative AI to design new car models and optimize production processes.\n",
      "* **Amazon**: Using generative AI to personalize product recommendations and improve customer service.\n",
      "* **Google**: Using generative AI to generate high-quality images and videos for marketing campaigns.\n",
      "\n",
      "These are just a few examples of the many business applications of generative AI. As the technology continues to evolve, we can expect to see even more innovative uses in various industries.\n"
     ]
    }
   ],
   "source": [
    "import ollama\n",
    "\n",
    "response = ollama.chat(model=MODEL, messages=messages)\n",
    "print(response['message']['content'])    "
   ]
  },
  {
   "cell_type": "markdown",
   "id": "1622d9bb-5c68-4d4e-9ca4-b492c751f898",
   "metadata": {},
   "source": [
    "# NOW the exercise for you\n",
    "\n",
    "Take the code from day1 and incorporate it here, to build a website summarizer that uses Llama 3.2 running locally instead of OpenAI"
   ]
  },
  {
   "cell_type": "code",
   "execution_count": 3,
   "id": "c2bc7170",
   "metadata": {},
   "outputs": [
    {
     "data": {
      "text/markdown": [
       "**Anthropic Website Summary**\n",
       "=====================================\n",
       "\n",
       "### Overview\n",
       "\n",
       "Anthropic is an AI safety and research company based in San Francisco, composed of an interdisciplinary team with expertise in ML, physics, policy, and product.\n",
       "\n",
       "### Products and Services\n",
       "\n",
       "*   Claude: A suite of AI models designed to prioritize safety\n",
       "*   Claude 3.5 Sonnet: The latest intelligent AI model available\n",
       "*   Claude for Enterprise: An AI solution for businesses\n",
       "\n",
       "### Research and Alignment\n",
       "\n",
       "*   Constitutional AI: Harmlessness from AI Feedback (2022)\n",
       "*   Core Views on AI Safety: When, Why, What, and How (2023)\n",
       "\n",
       "### News and Announcements\n",
       "\n",
       "*   **Oct 22, 2024**: Introduction of Claude 3.5 Sonnet and Claude 3.5 Haiku\n",
       "*   **Sep 4, 2024**: Product update for Claude for Enterprise\n",
       "*   **Dec 15, 2022**: Research paper on Constitutional AI: Harmlessness from AI Feedback\n",
       "\n",
       "### Company Information\n",
       "\n",
       "*   Anthropic PBC (2024)\n",
       "*   Contact information:\n",
       "    *   Twitter: @Anthropic\n",
       "    *   LinkedIn: [LinkedIn profile]\n",
       "    *   YouTube: [YouTube channel]\n",
       "    *   Support status: Available\n",
       "    *   Terms of Service and Privacy Policy\n",
       "\n",
       "Note that the website is regularly updated, so this summary may not be comprehensive or up-to-date."
      ],
      "text/plain": [
       "<IPython.core.display.Markdown object>"
      ]
     },
     "metadata": {},
     "output_type": "display_data"
    }
   ],
   "source": [
    "# imports\n",
    "\n",
    "import os\n",
    "import requests\n",
    "from dotenv import load_dotenv\n",
    "from bs4 import BeautifulSoup\n",
    "from IPython.display import Markdown, display\n",
    "import ollama\n",
    "\n",
    "OLLAMA_API = \"http://localhost:11434/api/chat\"\n",
    "HEADERS = {\"Content-Type\": \"application/json\"}\n",
    "MODEL = \"llama3.2\"\n",
    "\n",
    "class Website:\n",
    "    \"\"\"\n",
    "    A utility class to represent a Website that we have scraped\n",
    "    \"\"\"\n",
    "    def __init__(self, url):\n",
    "        \"\"\"\n",
    "        Create this Website object from the given url using the BeautifulSoup library\n",
    "        \"\"\"\n",
    "        self.url = url\n",
    "        response = requests.get(url)\n",
    "        soup = BeautifulSoup(response.content, 'html.parser')\n",
    "        self.title = soup.title.string if soup.title else \"No title found\"\n",
    "        for irrelevant in soup.body([\"script\", \"style\", \"img\", \"input\"]):\n",
    "            irrelevant.decompose()\n",
    "        self.text = soup.body.get_text(separator=\"\\n\", strip=True)\n",
    "\n",
    "\n",
    "def user_prompt_for(website):\n",
    "    user_prompt = f\"You are looking at a website titled {website.title}\"\n",
    "    user_prompt += \"\\nThe contents of this website is as follows; \\\n",
    "please provide a short summary of this website in markdown. \\\n",
    "If it includes news or announcements, then summarize these too.\\n\\n\"\n",
    "    user_prompt += website.text\n",
    "    return user_prompt\n",
    "\n",
    "def messages_for(website):\n",
    "    return [\n",
    "        {\"role\": \"user\", \"content\": user_prompt_for(website)}\n",
    "    ]\n",
    "\n",
    "def summarize(url):\n",
    "    website = Website(url)\n",
    "    response = ollama.chat(\n",
    "        model = MODEL,\n",
    "        messages = messages_for(website)\n",
    "    )\n",
    "    return response['message']['content']\n",
    "\n",
    "def display_summary(url):\n",
    "    summary = summarize(url)\n",
    "    display(Markdown(summary))\n",
    "\n",
    "\n",
    "display_summary(\"https://anthropic.com\")"
   ]
  },
  {
   "cell_type": "code",
   "execution_count": null,
   "id": "4f302f84",
   "metadata": {},
   "outputs": [],
   "source": []
  }
 ],
 "metadata": {
  "kernelspec": {
   "display_name": "Python 3 (ipykernel)",
   "language": "python",
   "name": "python3"
  },
  "language_info": {
   "codemirror_mode": {
    "name": "ipython",
    "version": 3
   },
   "file_extension": ".py",
   "mimetype": "text/x-python",
   "name": "python",
   "nbconvert_exporter": "python",
   "pygments_lexer": "ipython3",
   "version": "3.11.10"
  }
 },
 "nbformat": 4,
 "nbformat_minor": 5
}
